{
 "cells": [
  {
   "cell_type": "code",
   "execution_count": 1,
   "metadata": {},
   "outputs": [
    {
     "name": "stdout",
     "output_type": "stream",
     "text": [
      "32830\n"
     ]
    }
   ],
   "source": [
    "from os import listdir\n",
    "\n",
    "filePath = './vard_txt/'\n",
    "files = listdir(filePath)\n",
    "\n",
    "print(len(files))"
   ]
  },
  {
   "cell_type": "code",
   "execution_count": 33,
   "metadata": {},
   "outputs": [],
   "source": [
    "splitDocsPath = './vard_split_txt/'\n",
    "\n",
    "for fileName in files:\n",
    "    with open(filePath + fileName, 'r+') as fp:\n",
    "        text = fp.read()\n",
    "        words = text.split(\" \")\n",
    "        \n",
    "    splits = [i for i in range(0, len(words), 500)]\n",
    "    splits.append(len(words))\n",
    "    \n",
    "    frags = [words[splits[i]:splits[i+1]] for i in range(len(splits) - 1)]\n",
    "    \n",
    "    for i, frag in zip(range(len(frags)), frags):\n",
    "        fragText = \" \".join(frag)\n",
    "        fragTitle = fileName.split('.txt')[0] + '-' + str(i) + '.txt'\n",
    "        \n",
    "        with open(splitDocsPath + fragTitle, 'w+') as _fp:\n",
    "            _fp.write(fragText)"
   ]
  },
  {
   "cell_type": "code",
   "execution_count": null,
   "metadata": {},
   "outputs": [],
   "source": []
  }
 ],
 "metadata": {
  "kernelspec": {
   "display_name": "Python 3",
   "language": "python",
   "name": "python3"
  },
  "language_info": {
   "codemirror_mode": {
    "name": "ipython",
    "version": 3
   },
   "file_extension": ".py",
   "mimetype": "text/x-python",
   "name": "python",
   "nbconvert_exporter": "python",
   "pygments_lexer": "ipython3",
   "version": "3.6.8"
  }
 },
 "nbformat": 4,
 "nbformat_minor": 2
}
